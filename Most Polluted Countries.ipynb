{
 "cells": [
  {
   "cell_type": "markdown",
   "id": "c068a1d0",
   "metadata": {},
   "source": [
    "# Exploratory Data Analysis on Most Polluted Countries"
   ]
  },
  {
   "cell_type": "markdown",
   "id": "1b3ba75c",
   "metadata": {},
   "source": [
    "Problem Statement\n",
    "Exploratory Data Analysis on Most Polluted Countries\n",
    "\n",
    "In this Jupyter project, I conducted a comprehensive Exploratory Data Analysis (EDA) on a dataset named \"Most Polluted Countries.\" The dataset encompasses crucial information such as pollution levels, growth rates, geographical details, and rankings of various countries.\n",
    "\n",
    "Key Highlights:\n",
    "\n",
    "Data Overview: I began by loading and exploring the dataset, providing a snapshot of its structure and summary statistics. Additionally, I checked for missing values to ensure data integrity.\n",
    "\n",
    "Visualizations: Leveraging Python libraries like Matplotlib and Seaborn, I created insightful visualizations to uncover patterns and trends within the dataset. This included histograms to showcase the distribution of pollution levels, box plots to analyze pollution growth rates across regions, and a correlation heatmap to identify relationships between variables.\n",
    "\n",
    "Answering Questions: I addressed specific questions such as identifying the topmost polluted countries in 2023 and examining the relationship between land area and pollution density.\n",
    "\n",
    "Insights: Throughout the analysis, I gained valuable insights into the distribution of pollution levels, regional variations in pollution growth rates, and correlations between different factors.\n",
    "\n",
    "This project not only demonstrates my proficiency in Python for data analysis but also showcases my ability to derive meaningful insights from complex datasets. The visualizations and code snippets provide a clear narrative, making it accessible to both technical and non-technical audiences.\n"
   ]
  },
  {
   "cell_type": "markdown",
   "id": "6ff2a48f",
   "metadata": {},
   "source": [
    "# Import Library"
   ]
  },
  {
   "cell_type": "code",
   "execution_count": 1,
   "id": "df179ad8",
   "metadata": {},
   "outputs": [],
   "source": [
    "import pandas as pd"
   ]
  },
  {
   "cell_type": "code",
   "execution_count": 2,
   "id": "517a0fd1",
   "metadata": {},
   "outputs": [
    {
     "name": "stderr",
     "output_type": "stream",
     "text": [
      "C:\\Users\\Syed Arif\\anaconda3\\lib\\site-packages\\scipy\\__init__.py:146: UserWarning: A NumPy version >=1.16.5 and <1.23.0 is required for this version of SciPy (detected version 1.25.1\n",
      "  warnings.warn(f\"A NumPy version >={np_minversion} and <{np_maxversion}\"\n"
     ]
    }
   ],
   "source": [
    "import pandas as pd\n",
    "import seaborn as sns\n",
    "import matplotlib.pyplot as plt\n",
    "import seaborn as sns"
   ]
  },
  {
   "cell_type": "markdown",
   "id": "4b0eb245",
   "metadata": {},
   "source": [
    "# Uploading Csv fle"
   ]
  },
  {
   "cell_type": "code",
   "execution_count": 3,
   "id": "ddda5ead",
   "metadata": {},
   "outputs": [],
   "source": [
    "df = pd.read_csv(r\"C:\\Users\\Syed Arif\\Desktop\\most-polluted-countries.csv\")"
   ]
  },
  {
   "cell_type": "markdown",
   "id": "c5597201",
   "metadata": {},
   "source": [
    "# Data Preprocessing\n"
   ]
  },
  {
   "cell_type": "markdown",
   "id": "aace63f6",
   "metadata": {},
   "source": [
    "# .head()"
   ]
  },
  {
   "cell_type": "markdown",
   "id": "b7a66965",
   "metadata": {},
   "source": [
    "head is used show to the By default = 5 rows in the dataset"
   ]
  },
  {
   "cell_type": "code",
   "execution_count": 4,
   "id": "1c714689",
   "metadata": {},
   "outputs": [
    {
     "data": {
      "text/html": [
       "<div>\n",
       "<style scoped>\n",
       "    .dataframe tbody tr th:only-of-type {\n",
       "        vertical-align: middle;\n",
       "    }\n",
       "\n",
       "    .dataframe tbody tr th {\n",
       "        vertical-align: top;\n",
       "    }\n",
       "\n",
       "    .dataframe thead th {\n",
       "        text-align: right;\n",
       "    }\n",
       "</style>\n",
       "<table border=\"1\" class=\"dataframe\">\n",
       "  <thead>\n",
       "    <tr style=\"text-align: right;\">\n",
       "      <th></th>\n",
       "      <th>pollution_2023</th>\n",
       "      <th>pollution_growth_Rate</th>\n",
       "      <th>country_name</th>\n",
       "      <th>ccn3</th>\n",
       "      <th>country_region</th>\n",
       "      <th>united_nation_Member</th>\n",
       "      <th>country_land_Area_in_Km</th>\n",
       "      <th>pollution_density_in_km</th>\n",
       "      <th>pollution_density_per_Mile</th>\n",
       "      <th>share_borders</th>\n",
       "      <th>pollution_Rank</th>\n",
       "      <th>mostPollutedCountries_particlePollution</th>\n",
       "    </tr>\n",
       "  </thead>\n",
       "  <tbody>\n",
       "    <tr>\n",
       "      <th>0</th>\n",
       "      <td>1428627663</td>\n",
       "      <td>0.00808</td>\n",
       "      <td>India</td>\n",
       "      <td>356</td>\n",
       "      <td>Asia</td>\n",
       "      <td>True</td>\n",
       "      <td>2973190.0</td>\n",
       "      <td>480.5033</td>\n",
       "      <td>1244.5036</td>\n",
       "      <td>AFG, BGD, BTN, MMR, CHN, NPL, PAK, LKA</td>\n",
       "      <td>1</td>\n",
       "      <td>58.08</td>\n",
       "    </tr>\n",
       "    <tr>\n",
       "      <th>1</th>\n",
       "      <td>1425671352</td>\n",
       "      <td>-0.00015</td>\n",
       "      <td>China</td>\n",
       "      <td>156</td>\n",
       "      <td>Asia</td>\n",
       "      <td>True</td>\n",
       "      <td>9424702.9</td>\n",
       "      <td>151.2696</td>\n",
       "      <td>391.7884</td>\n",
       "      <td>AFG, BTN, MMR, HKG, IND, KAZ, PRK, KGZ, LAO, M...</td>\n",
       "      <td>2</td>\n",
       "      <td>39.12</td>\n",
       "    </tr>\n",
       "    <tr>\n",
       "      <th>2</th>\n",
       "      <td>339996563</td>\n",
       "      <td>0.00505</td>\n",
       "      <td>United States</td>\n",
       "      <td>840</td>\n",
       "      <td>North America</td>\n",
       "      <td>True</td>\n",
       "      <td>9147420.0</td>\n",
       "      <td>37.1686</td>\n",
       "      <td>96.2666</td>\n",
       "      <td>CAN, MEX</td>\n",
       "      <td>3</td>\n",
       "      <td>9.04</td>\n",
       "    </tr>\n",
       "    <tr>\n",
       "      <th>3</th>\n",
       "      <td>277534122</td>\n",
       "      <td>0.00738</td>\n",
       "      <td>Indonesia</td>\n",
       "      <td>360</td>\n",
       "      <td>Asia</td>\n",
       "      <td>True</td>\n",
       "      <td>1877519.0</td>\n",
       "      <td>147.8196</td>\n",
       "      <td>382.8528</td>\n",
       "      <td>TLS, MYS, PNG</td>\n",
       "      <td>4</td>\n",
       "      <td>51.71</td>\n",
       "    </tr>\n",
       "    <tr>\n",
       "      <th>4</th>\n",
       "      <td>240485658</td>\n",
       "      <td>0.01976</td>\n",
       "      <td>Pakistan</td>\n",
       "      <td>586</td>\n",
       "      <td>Asia</td>\n",
       "      <td>True</td>\n",
       "      <td>770880.0</td>\n",
       "      <td>311.9625</td>\n",
       "      <td>807.9829</td>\n",
       "      <td>AFG, CHN, IND, IRN</td>\n",
       "      <td>5</td>\n",
       "      <td>65.81</td>\n",
       "    </tr>\n",
       "  </tbody>\n",
       "</table>\n",
       "</div>"
      ],
      "text/plain": [
       "   pollution_2023  pollution_growth_Rate   country_name  ccn3 country_region  \\\n",
       "0      1428627663                0.00808          India   356           Asia   \n",
       "1      1425671352               -0.00015          China   156           Asia   \n",
       "2       339996563                0.00505  United States   840  North America   \n",
       "3       277534122                0.00738      Indonesia   360           Asia   \n",
       "4       240485658                0.01976       Pakistan   586           Asia   \n",
       "\n",
       "   united_nation_Member  country_land_Area_in_Km  pollution_density_in_km  \\\n",
       "0                  True                2973190.0                 480.5033   \n",
       "1                  True                9424702.9                 151.2696   \n",
       "2                  True                9147420.0                  37.1686   \n",
       "3                  True                1877519.0                 147.8196   \n",
       "4                  True                 770880.0                 311.9625   \n",
       "\n",
       "   pollution_density_per_Mile  \\\n",
       "0                   1244.5036   \n",
       "1                    391.7884   \n",
       "2                     96.2666   \n",
       "3                    382.8528   \n",
       "4                    807.9829   \n",
       "\n",
       "                                       share_borders  pollution_Rank  \\\n",
       "0             AFG, BGD, BTN, MMR, CHN, NPL, PAK, LKA               1   \n",
       "1  AFG, BTN, MMR, HKG, IND, KAZ, PRK, KGZ, LAO, M...               2   \n",
       "2                                           CAN, MEX               3   \n",
       "3                                      TLS, MYS, PNG               4   \n",
       "4                                 AFG, CHN, IND, IRN               5   \n",
       "\n",
       "   mostPollutedCountries_particlePollution  \n",
       "0                                    58.08  \n",
       "1                                    39.12  \n",
       "2                                     9.04  \n",
       "3                                    51.71  \n",
       "4                                    65.81  "
      ]
     },
     "execution_count": 4,
     "metadata": {},
     "output_type": "execute_result"
    }
   ],
   "source": [
    "df.head()"
   ]
  },
  {
   "cell_type": "markdown",
   "id": "8684a0d2",
   "metadata": {},
   "source": [
    "# .tail()"
   ]
  },
  {
   "cell_type": "markdown",
   "id": "dc1a3074",
   "metadata": {},
   "source": [
    "tail is used to show rows by Descending order"
   ]
  },
  {
   "cell_type": "code",
   "execution_count": 5,
   "id": "13069e51",
   "metadata": {},
   "outputs": [
    {
     "data": {
      "text/html": [
       "<div>\n",
       "<style scoped>\n",
       "    .dataframe tbody tr th:only-of-type {\n",
       "        vertical-align: middle;\n",
       "    }\n",
       "\n",
       "    .dataframe tbody tr th {\n",
       "        vertical-align: top;\n",
       "    }\n",
       "\n",
       "    .dataframe thead th {\n",
       "        text-align: right;\n",
       "    }\n",
       "</style>\n",
       "<table border=\"1\" class=\"dataframe\">\n",
       "  <thead>\n",
       "    <tr style=\"text-align: right;\">\n",
       "      <th></th>\n",
       "      <th>pollution_2023</th>\n",
       "      <th>pollution_growth_Rate</th>\n",
       "      <th>country_name</th>\n",
       "      <th>ccn3</th>\n",
       "      <th>country_region</th>\n",
       "      <th>united_nation_Member</th>\n",
       "      <th>country_land_Area_in_Km</th>\n",
       "      <th>pollution_density_in_km</th>\n",
       "      <th>pollution_density_per_Mile</th>\n",
       "      <th>share_borders</th>\n",
       "      <th>pollution_Rank</th>\n",
       "      <th>mostPollutedCountries_particlePollution</th>\n",
       "    </tr>\n",
       "  </thead>\n",
       "  <tbody>\n",
       "    <tr>\n",
       "      <th>91</th>\n",
       "      <td>704149</td>\n",
       "      <td>0.01292</td>\n",
       "      <td>Macau</td>\n",
       "      <td>446</td>\n",
       "      <td>Asia</td>\n",
       "      <td>False</td>\n",
       "      <td>32.9</td>\n",
       "      <td>21402.7052</td>\n",
       "      <td>55433.0064</td>\n",
       "      <td>CHN</td>\n",
       "      <td>167</td>\n",
       "      <td>23.50</td>\n",
       "    </tr>\n",
       "    <tr>\n",
       "      <th>92</th>\n",
       "      <td>654768</td>\n",
       "      <td>0.01107</td>\n",
       "      <td>Luxembourg</td>\n",
       "      <td>442</td>\n",
       "      <td>Europe</td>\n",
       "      <td>True</td>\n",
       "      <td>2574.5</td>\n",
       "      <td>254.3282</td>\n",
       "      <td>658.7101</td>\n",
       "      <td>BEL, FRA, DEU</td>\n",
       "      <td>168</td>\n",
       "      <td>9.60</td>\n",
       "    </tr>\n",
       "    <tr>\n",
       "      <th>93</th>\n",
       "      <td>535064</td>\n",
       "      <td>0.00333</td>\n",
       "      <td>Malta</td>\n",
       "      <td>470</td>\n",
       "      <td>Europe</td>\n",
       "      <td>True</td>\n",
       "      <td>320.0</td>\n",
       "      <td>1672.0750</td>\n",
       "      <td>4330.6743</td>\n",
       "      <td>NaN</td>\n",
       "      <td>173</td>\n",
       "      <td>9.40</td>\n",
       "    </tr>\n",
       "    <tr>\n",
       "      <th>94</th>\n",
       "      <td>412623</td>\n",
       "      <td>0.00644</td>\n",
       "      <td>Bahamas</td>\n",
       "      <td>44</td>\n",
       "      <td>North America</td>\n",
       "      <td>True</td>\n",
       "      <td>10010.0</td>\n",
       "      <td>41.2211</td>\n",
       "      <td>106.7626</td>\n",
       "      <td>NaN</td>\n",
       "      <td>176</td>\n",
       "      <td>3.30</td>\n",
       "    </tr>\n",
       "    <tr>\n",
       "      <th>95</th>\n",
       "      <td>375318</td>\n",
       "      <td>0.00649</td>\n",
       "      <td>Iceland</td>\n",
       "      <td>352</td>\n",
       "      <td>Europe</td>\n",
       "      <td>True</td>\n",
       "      <td>100830.0</td>\n",
       "      <td>3.7223</td>\n",
       "      <td>9.6407</td>\n",
       "      <td>NaN</td>\n",
       "      <td>179</td>\n",
       "      <td>5.55</td>\n",
       "    </tr>\n",
       "  </tbody>\n",
       "</table>\n",
       "</div>"
      ],
      "text/plain": [
       "    pollution_2023  pollution_growth_Rate country_name  ccn3 country_region  \\\n",
       "91          704149                0.01292        Macau   446           Asia   \n",
       "92          654768                0.01107   Luxembourg   442         Europe   \n",
       "93          535064                0.00333        Malta   470         Europe   \n",
       "94          412623                0.00644      Bahamas    44  North America   \n",
       "95          375318                0.00649      Iceland   352         Europe   \n",
       "\n",
       "    united_nation_Member  country_land_Area_in_Km  pollution_density_in_km  \\\n",
       "91                 False                     32.9               21402.7052   \n",
       "92                  True                   2574.5                 254.3282   \n",
       "93                  True                    320.0                1672.0750   \n",
       "94                  True                  10010.0                  41.2211   \n",
       "95                  True                 100830.0                   3.7223   \n",
       "\n",
       "    pollution_density_per_Mile  share_borders  pollution_Rank  \\\n",
       "91                  55433.0064            CHN             167   \n",
       "92                    658.7101  BEL, FRA, DEU             168   \n",
       "93                   4330.6743            NaN             173   \n",
       "94                    106.7626            NaN             176   \n",
       "95                      9.6407            NaN             179   \n",
       "\n",
       "    mostPollutedCountries_particlePollution  \n",
       "91                                    23.50  \n",
       "92                                     9.60  \n",
       "93                                     9.40  \n",
       "94                                     3.30  \n",
       "95                                     5.55  "
      ]
     },
     "execution_count": 5,
     "metadata": {},
     "output_type": "execute_result"
    }
   ],
   "source": [
    "df.tail()"
   ]
  },
  {
   "cell_type": "markdown",
   "id": "e76fc80f",
   "metadata": {},
   "source": [
    "# .shape"
   ]
  },
  {
   "cell_type": "markdown",
   "id": "21d6d5af",
   "metadata": {},
   "source": [
    "It show the total no of rows & Column in the dataset"
   ]
  },
  {
   "cell_type": "code",
   "execution_count": 6,
   "id": "e34d1ec4",
   "metadata": {},
   "outputs": [
    {
     "data": {
      "text/plain": [
       "(96, 12)"
      ]
     },
     "execution_count": 6,
     "metadata": {},
     "output_type": "execute_result"
    }
   ],
   "source": [
    "df.shape"
   ]
  },
  {
   "cell_type": "markdown",
   "id": "618b8c56",
   "metadata": {},
   "source": [
    "# .Columns"
   ]
  },
  {
   "cell_type": "markdown",
   "id": "81d5b891",
   "metadata": {},
   "source": [
    "It show the no of each Column"
   ]
  },
  {
   "cell_type": "code",
   "execution_count": 7,
   "id": "d90a23ca",
   "metadata": {},
   "outputs": [
    {
     "data": {
      "text/plain": [
       "Index(['pollution_2023', 'pollution_growth_Rate', 'country_name', 'ccn3',\n",
       "       'country_region', 'united_nation_Member', 'country_land_Area_in_Km',\n",
       "       'pollution_density_in_km', 'pollution_density_per_Mile',\n",
       "       'share_borders', 'pollution_Rank',\n",
       "       'mostPollutedCountries_particlePollution'],\n",
       "      dtype='object')"
      ]
     },
     "execution_count": 7,
     "metadata": {},
     "output_type": "execute_result"
    }
   ],
   "source": [
    "df.columns"
   ]
  },
  {
   "cell_type": "markdown",
   "id": "4c3f8320",
   "metadata": {},
   "source": [
    "# .dtypes"
   ]
  },
  {
   "cell_type": "markdown",
   "id": "19881edc",
   "metadata": {},
   "source": [
    "This Attribute show the data type of each column"
   ]
  },
  {
   "cell_type": "code",
   "execution_count": 8,
   "id": "4a5c7bdd",
   "metadata": {},
   "outputs": [
    {
     "data": {
      "text/plain": [
       "pollution_2023                               int64\n",
       "pollution_growth_Rate                      float64\n",
       "country_name                                object\n",
       "ccn3                                         int64\n",
       "country_region                              object\n",
       "united_nation_Member                          bool\n",
       "country_land_Area_in_Km                    float64\n",
       "pollution_density_in_km                    float64\n",
       "pollution_density_per_Mile                 float64\n",
       "share_borders                               object\n",
       "pollution_Rank                               int64\n",
       "mostPollutedCountries_particlePollution    float64\n",
       "dtype: object"
      ]
     },
     "execution_count": 8,
     "metadata": {},
     "output_type": "execute_result"
    }
   ],
   "source": [
    "df.dtypes"
   ]
  },
  {
   "cell_type": "markdown",
   "id": "f641048a",
   "metadata": {},
   "source": [
    "# .unique()"
   ]
  },
  {
   "cell_type": "markdown",
   "id": "bf6d4f5e",
   "metadata": {},
   "source": [
    "In a column, It show the unique value of specific column."
   ]
  },
  {
   "cell_type": "code",
   "execution_count": 9,
   "id": "bb0f0dd0",
   "metadata": {},
   "outputs": [
    {
     "data": {
      "text/plain": [
       "array(['Asia', 'North America', 'Africa', 'South America', 'Europe',\n",
       "       'Oceania'], dtype=object)"
      ]
     },
     "execution_count": 9,
     "metadata": {},
     "output_type": "execute_result"
    }
   ],
   "source": [
    "df[\"country_region\"].unique()"
   ]
  },
  {
   "cell_type": "markdown",
   "id": "f34840f6",
   "metadata": {},
   "source": [
    "# .nuique()"
   ]
  },
  {
   "cell_type": "markdown",
   "id": "73792a7b",
   "metadata": {},
   "source": [
    "It will show the total no of unque value from whole data frame"
   ]
  },
  {
   "cell_type": "code",
   "execution_count": 10,
   "id": "2e192d57",
   "metadata": {},
   "outputs": [
    {
     "data": {
      "text/plain": [
       "pollution_2023                             96\n",
       "pollution_growth_Rate                      95\n",
       "country_name                               96\n",
       "ccn3                                       96\n",
       "country_region                              6\n",
       "united_nation_Member                        2\n",
       "country_land_Area_in_Km                    96\n",
       "pollution_density_in_km                    96\n",
       "pollution_density_per_Mile                 96\n",
       "share_borders                              83\n",
       "pollution_Rank                             96\n",
       "mostPollutedCountries_particlePollution    93\n",
       "dtype: int64"
      ]
     },
     "execution_count": 10,
     "metadata": {},
     "output_type": "execute_result"
    }
   ],
   "source": [
    "df.nunique()"
   ]
  },
  {
   "cell_type": "markdown",
   "id": "4d234903",
   "metadata": {},
   "source": [
    "# .describe()"
   ]
  },
  {
   "cell_type": "markdown",
   "id": "dff6dbc9",
   "metadata": {},
   "source": [
    "It show the Count, mean , median etc"
   ]
  },
  {
   "cell_type": "code",
   "execution_count": 11,
   "id": "dba2fda3",
   "metadata": {},
   "outputs": [
    {
     "data": {
      "text/html": [
       "<div>\n",
       "<style scoped>\n",
       "    .dataframe tbody tr th:only-of-type {\n",
       "        vertical-align: middle;\n",
       "    }\n",
       "\n",
       "    .dataframe tbody tr th {\n",
       "        vertical-align: top;\n",
       "    }\n",
       "\n",
       "    .dataframe thead th {\n",
       "        text-align: right;\n",
       "    }\n",
       "</style>\n",
       "<table border=\"1\" class=\"dataframe\">\n",
       "  <thead>\n",
       "    <tr style=\"text-align: right;\">\n",
       "      <th></th>\n",
       "      <th>pollution_2023</th>\n",
       "      <th>pollution_growth_Rate</th>\n",
       "      <th>ccn3</th>\n",
       "      <th>country_land_Area_in_Km</th>\n",
       "      <th>pollution_density_in_km</th>\n",
       "      <th>pollution_density_per_Mile</th>\n",
       "      <th>pollution_Rank</th>\n",
       "      <th>mostPollutedCountries_particlePollution</th>\n",
       "    </tr>\n",
       "  </thead>\n",
       "  <tbody>\n",
       "    <tr>\n",
       "      <th>count</th>\n",
       "      <td>9.600000e+01</td>\n",
       "      <td>96.000000</td>\n",
       "      <td>96.000000</td>\n",
       "      <td>9.600000e+01</td>\n",
       "      <td>96.000000</td>\n",
       "      <td>96.000000</td>\n",
       "      <td>96.000000</td>\n",
       "      <td>96.000000</td>\n",
       "    </tr>\n",
       "    <tr>\n",
       "      <th>mean</th>\n",
       "      <td>7.405002e+07</td>\n",
       "      <td>0.007062</td>\n",
       "      <td>402.822917</td>\n",
       "      <td>1.088409e+06</td>\n",
       "      <td>562.915979</td>\n",
       "      <td>1457.952382</td>\n",
       "      <td>72.250000</td>\n",
       "      <td>22.152500</td>\n",
       "    </tr>\n",
       "    <tr>\n",
       "      <th>std</th>\n",
       "      <td>2.083376e+08</td>\n",
       "      <td>0.013354</td>\n",
       "      <td>251.466687</td>\n",
       "      <td>2.518835e+06</td>\n",
       "      <td>2428.297828</td>\n",
       "      <td>6289.291376</td>\n",
       "      <td>51.809164</td>\n",
       "      <td>14.478306</td>\n",
       "    </tr>\n",
       "    <tr>\n",
       "      <th>min</th>\n",
       "      <td>3.753180e+05</td>\n",
       "      <td>-0.074480</td>\n",
       "      <td>4.000000</td>\n",
       "      <td>3.290000e+01</td>\n",
       "      <td>2.213300</td>\n",
       "      <td>5.732300</td>\n",
       "      <td>1.000000</td>\n",
       "      <td>3.300000</td>\n",
       "    </tr>\n",
       "    <tr>\n",
       "      <th>25%</th>\n",
       "      <td>5.881984e+06</td>\n",
       "      <td>0.001303</td>\n",
       "      <td>190.250000</td>\n",
       "      <td>6.213750e+04</td>\n",
       "      <td>44.683800</td>\n",
       "      <td>115.731025</td>\n",
       "      <td>26.500000</td>\n",
       "      <td>11.272500</td>\n",
       "    </tr>\n",
       "    <tr>\n",
       "      <th>50%</th>\n",
       "      <td>1.976120e+07</td>\n",
       "      <td>0.006790</td>\n",
       "      <td>386.000000</td>\n",
       "      <td>2.304400e+05</td>\n",
       "      <td>104.621200</td>\n",
       "      <td>270.968850</td>\n",
       "      <td>64.500000</td>\n",
       "      <td>19.540000</td>\n",
       "    </tr>\n",
       "    <tr>\n",
       "      <th>75%</th>\n",
       "      <td>5.565119e+07</td>\n",
       "      <td>0.012140</td>\n",
       "      <td>617.000000</td>\n",
       "      <td>7.740505e+05</td>\n",
       "      <td>226.557775</td>\n",
       "      <td>586.784625</td>\n",
       "      <td>115.250000</td>\n",
       "      <td>25.272500</td>\n",
       "    </tr>\n",
       "    <tr>\n",
       "      <th>max</th>\n",
       "      <td>1.428628e+09</td>\n",
       "      <td>0.049800</td>\n",
       "      <td>860.000000</td>\n",
       "      <td>1.637687e+07</td>\n",
       "      <td>21402.705200</td>\n",
       "      <td>55433.006400</td>\n",
       "      <td>179.000000</td>\n",
       "      <td>83.300000</td>\n",
       "    </tr>\n",
       "  </tbody>\n",
       "</table>\n",
       "</div>"
      ],
      "text/plain": [
       "       pollution_2023  pollution_growth_Rate        ccn3  \\\n",
       "count    9.600000e+01              96.000000   96.000000   \n",
       "mean     7.405002e+07               0.007062  402.822917   \n",
       "std      2.083376e+08               0.013354  251.466687   \n",
       "min      3.753180e+05              -0.074480    4.000000   \n",
       "25%      5.881984e+06               0.001303  190.250000   \n",
       "50%      1.976120e+07               0.006790  386.000000   \n",
       "75%      5.565119e+07               0.012140  617.000000   \n",
       "max      1.428628e+09               0.049800  860.000000   \n",
       "\n",
       "       country_land_Area_in_Km  pollution_density_in_km  \\\n",
       "count             9.600000e+01                96.000000   \n",
       "mean              1.088409e+06               562.915979   \n",
       "std               2.518835e+06              2428.297828   \n",
       "min               3.290000e+01                 2.213300   \n",
       "25%               6.213750e+04                44.683800   \n",
       "50%               2.304400e+05               104.621200   \n",
       "75%               7.740505e+05               226.557775   \n",
       "max               1.637687e+07             21402.705200   \n",
       "\n",
       "       pollution_density_per_Mile  pollution_Rank  \\\n",
       "count                   96.000000       96.000000   \n",
       "mean                  1457.952382       72.250000   \n",
       "std                   6289.291376       51.809164   \n",
       "min                      5.732300        1.000000   \n",
       "25%                    115.731025       26.500000   \n",
       "50%                    270.968850       64.500000   \n",
       "75%                    586.784625      115.250000   \n",
       "max                  55433.006400      179.000000   \n",
       "\n",
       "       mostPollutedCountries_particlePollution  \n",
       "count                                96.000000  \n",
       "mean                                 22.152500  \n",
       "std                                  14.478306  \n",
       "min                                   3.300000  \n",
       "25%                                  11.272500  \n",
       "50%                                  19.540000  \n",
       "75%                                  25.272500  \n",
       "max                                  83.300000  "
      ]
     },
     "execution_count": 11,
     "metadata": {},
     "output_type": "execute_result"
    }
   ],
   "source": [
    "df.describe()"
   ]
  },
  {
   "cell_type": "markdown",
   "id": "e0a1161b",
   "metadata": {},
   "source": [
    "# .value_counts"
   ]
  },
  {
   "cell_type": "markdown",
   "id": "dcea0077",
   "metadata": {},
   "source": [
    "It Shows all the unique values with their count"
   ]
  },
  {
   "cell_type": "code",
   "execution_count": 12,
   "id": "8a63f82e",
   "metadata": {},
   "outputs": [
    {
     "data": {
      "text/plain": [
       "Asia             37\n",
       "Europe           35\n",
       "Africa            9\n",
       "North America     7\n",
       "South America     6\n",
       "Oceania           2\n",
       "Name: country_region, dtype: int64"
      ]
     },
     "execution_count": 12,
     "metadata": {},
     "output_type": "execute_result"
    }
   ],
   "source": [
    "df[\"country_region\"].value_counts()"
   ]
  },
  {
   "cell_type": "markdown",
   "id": "f55f4c89",
   "metadata": {},
   "source": [
    "# .isnull()"
   ]
  },
  {
   "cell_type": "markdown",
   "id": "cb961a9d",
   "metadata": {},
   "source": [
    "It shows the how many null values"
   ]
  },
  {
   "cell_type": "code",
   "execution_count": 13,
   "id": "614ae149",
   "metadata": {},
   "outputs": [
    {
     "data": {
      "text/html": [
       "<div>\n",
       "<style scoped>\n",
       "    .dataframe tbody tr th:only-of-type {\n",
       "        vertical-align: middle;\n",
       "    }\n",
       "\n",
       "    .dataframe tbody tr th {\n",
       "        vertical-align: top;\n",
       "    }\n",
       "\n",
       "    .dataframe thead th {\n",
       "        text-align: right;\n",
       "    }\n",
       "</style>\n",
       "<table border=\"1\" class=\"dataframe\">\n",
       "  <thead>\n",
       "    <tr style=\"text-align: right;\">\n",
       "      <th></th>\n",
       "      <th>pollution_2023</th>\n",
       "      <th>pollution_growth_Rate</th>\n",
       "      <th>country_name</th>\n",
       "      <th>ccn3</th>\n",
       "      <th>country_region</th>\n",
       "      <th>united_nation_Member</th>\n",
       "      <th>country_land_Area_in_Km</th>\n",
       "      <th>pollution_density_in_km</th>\n",
       "      <th>pollution_density_per_Mile</th>\n",
       "      <th>share_borders</th>\n",
       "      <th>pollution_Rank</th>\n",
       "      <th>mostPollutedCountries_particlePollution</th>\n",
       "    </tr>\n",
       "  </thead>\n",
       "  <tbody>\n",
       "    <tr>\n",
       "      <th>0</th>\n",
       "      <td>False</td>\n",
       "      <td>False</td>\n",
       "      <td>False</td>\n",
       "      <td>False</td>\n",
       "      <td>False</td>\n",
       "      <td>False</td>\n",
       "      <td>False</td>\n",
       "      <td>False</td>\n",
       "      <td>False</td>\n",
       "      <td>False</td>\n",
       "      <td>False</td>\n",
       "      <td>False</td>\n",
       "    </tr>\n",
       "    <tr>\n",
       "      <th>1</th>\n",
       "      <td>False</td>\n",
       "      <td>False</td>\n",
       "      <td>False</td>\n",
       "      <td>False</td>\n",
       "      <td>False</td>\n",
       "      <td>False</td>\n",
       "      <td>False</td>\n",
       "      <td>False</td>\n",
       "      <td>False</td>\n",
       "      <td>False</td>\n",
       "      <td>False</td>\n",
       "      <td>False</td>\n",
       "    </tr>\n",
       "    <tr>\n",
       "      <th>2</th>\n",
       "      <td>False</td>\n",
       "      <td>False</td>\n",
       "      <td>False</td>\n",
       "      <td>False</td>\n",
       "      <td>False</td>\n",
       "      <td>False</td>\n",
       "      <td>False</td>\n",
       "      <td>False</td>\n",
       "      <td>False</td>\n",
       "      <td>False</td>\n",
       "      <td>False</td>\n",
       "      <td>False</td>\n",
       "    </tr>\n",
       "    <tr>\n",
       "      <th>3</th>\n",
       "      <td>False</td>\n",
       "      <td>False</td>\n",
       "      <td>False</td>\n",
       "      <td>False</td>\n",
       "      <td>False</td>\n",
       "      <td>False</td>\n",
       "      <td>False</td>\n",
       "      <td>False</td>\n",
       "      <td>False</td>\n",
       "      <td>False</td>\n",
       "      <td>False</td>\n",
       "      <td>False</td>\n",
       "    </tr>\n",
       "    <tr>\n",
       "      <th>4</th>\n",
       "      <td>False</td>\n",
       "      <td>False</td>\n",
       "      <td>False</td>\n",
       "      <td>False</td>\n",
       "      <td>False</td>\n",
       "      <td>False</td>\n",
       "      <td>False</td>\n",
       "      <td>False</td>\n",
       "      <td>False</td>\n",
       "      <td>False</td>\n",
       "      <td>False</td>\n",
       "      <td>False</td>\n",
       "    </tr>\n",
       "    <tr>\n",
       "      <th>...</th>\n",
       "      <td>...</td>\n",
       "      <td>...</td>\n",
       "      <td>...</td>\n",
       "      <td>...</td>\n",
       "      <td>...</td>\n",
       "      <td>...</td>\n",
       "      <td>...</td>\n",
       "      <td>...</td>\n",
       "      <td>...</td>\n",
       "      <td>...</td>\n",
       "      <td>...</td>\n",
       "      <td>...</td>\n",
       "    </tr>\n",
       "    <tr>\n",
       "      <th>91</th>\n",
       "      <td>False</td>\n",
       "      <td>False</td>\n",
       "      <td>False</td>\n",
       "      <td>False</td>\n",
       "      <td>False</td>\n",
       "      <td>False</td>\n",
       "      <td>False</td>\n",
       "      <td>False</td>\n",
       "      <td>False</td>\n",
       "      <td>False</td>\n",
       "      <td>False</td>\n",
       "      <td>False</td>\n",
       "    </tr>\n",
       "    <tr>\n",
       "      <th>92</th>\n",
       "      <td>False</td>\n",
       "      <td>False</td>\n",
       "      <td>False</td>\n",
       "      <td>False</td>\n",
       "      <td>False</td>\n",
       "      <td>False</td>\n",
       "      <td>False</td>\n",
       "      <td>False</td>\n",
       "      <td>False</td>\n",
       "      <td>False</td>\n",
       "      <td>False</td>\n",
       "      <td>False</td>\n",
       "    </tr>\n",
       "    <tr>\n",
       "      <th>93</th>\n",
       "      <td>False</td>\n",
       "      <td>False</td>\n",
       "      <td>False</td>\n",
       "      <td>False</td>\n",
       "      <td>False</td>\n",
       "      <td>False</td>\n",
       "      <td>False</td>\n",
       "      <td>False</td>\n",
       "      <td>False</td>\n",
       "      <td>True</td>\n",
       "      <td>False</td>\n",
       "      <td>False</td>\n",
       "    </tr>\n",
       "    <tr>\n",
       "      <th>94</th>\n",
       "      <td>False</td>\n",
       "      <td>False</td>\n",
       "      <td>False</td>\n",
       "      <td>False</td>\n",
       "      <td>False</td>\n",
       "      <td>False</td>\n",
       "      <td>False</td>\n",
       "      <td>False</td>\n",
       "      <td>False</td>\n",
       "      <td>True</td>\n",
       "      <td>False</td>\n",
       "      <td>False</td>\n",
       "    </tr>\n",
       "    <tr>\n",
       "      <th>95</th>\n",
       "      <td>False</td>\n",
       "      <td>False</td>\n",
       "      <td>False</td>\n",
       "      <td>False</td>\n",
       "      <td>False</td>\n",
       "      <td>False</td>\n",
       "      <td>False</td>\n",
       "      <td>False</td>\n",
       "      <td>False</td>\n",
       "      <td>True</td>\n",
       "      <td>False</td>\n",
       "      <td>False</td>\n",
       "    </tr>\n",
       "  </tbody>\n",
       "</table>\n",
       "<p>96 rows × 12 columns</p>\n",
       "</div>"
      ],
      "text/plain": [
       "    pollution_2023  pollution_growth_Rate  country_name   ccn3  \\\n",
       "0            False                  False         False  False   \n",
       "1            False                  False         False  False   \n",
       "2            False                  False         False  False   \n",
       "3            False                  False         False  False   \n",
       "4            False                  False         False  False   \n",
       "..             ...                    ...           ...    ...   \n",
       "91           False                  False         False  False   \n",
       "92           False                  False         False  False   \n",
       "93           False                  False         False  False   \n",
       "94           False                  False         False  False   \n",
       "95           False                  False         False  False   \n",
       "\n",
       "    country_region  united_nation_Member  country_land_Area_in_Km  \\\n",
       "0            False                 False                    False   \n",
       "1            False                 False                    False   \n",
       "2            False                 False                    False   \n",
       "3            False                 False                    False   \n",
       "4            False                 False                    False   \n",
       "..             ...                   ...                      ...   \n",
       "91           False                 False                    False   \n",
       "92           False                 False                    False   \n",
       "93           False                 False                    False   \n",
       "94           False                 False                    False   \n",
       "95           False                 False                    False   \n",
       "\n",
       "    pollution_density_in_km  pollution_density_per_Mile  share_borders  \\\n",
       "0                     False                       False          False   \n",
       "1                     False                       False          False   \n",
       "2                     False                       False          False   \n",
       "3                     False                       False          False   \n",
       "4                     False                       False          False   \n",
       "..                      ...                         ...            ...   \n",
       "91                    False                       False          False   \n",
       "92                    False                       False          False   \n",
       "93                    False                       False           True   \n",
       "94                    False                       False           True   \n",
       "95                    False                       False           True   \n",
       "\n",
       "    pollution_Rank  mostPollutedCountries_particlePollution  \n",
       "0            False                                    False  \n",
       "1            False                                    False  \n",
       "2            False                                    False  \n",
       "3            False                                    False  \n",
       "4            False                                    False  \n",
       "..             ...                                      ...  \n",
       "91           False                                    False  \n",
       "92           False                                    False  \n",
       "93           False                                    False  \n",
       "94           False                                    False  \n",
       "95           False                                    False  \n",
       "\n",
       "[96 rows x 12 columns]"
      ]
     },
     "execution_count": 13,
     "metadata": {},
     "output_type": "execute_result"
    }
   ],
   "source": [
    "df.isnull()"
   ]
  },
  {
   "cell_type": "code",
   "execution_count": 14,
   "id": "483ad1db",
   "metadata": {},
   "outputs": [
    {
     "data": {
      "text/plain": [
       "<AxesSubplot:>"
      ]
     },
     "execution_count": 14,
     "metadata": {},
     "output_type": "execute_result"
    },
    {
     "data": {
      "image/png": "[encoded data removed]",
      "text/plain": [
       "<Figure size 432x288 with 2 Axes>"
      ]
     },
     "metadata": {
      "needs_background": "light"
     },
     "output_type": "display_data"
    }
   ],
   "source": [
    "sns.heatmap(df.isnull())"
   ]
  },
  {
   "cell_type": "code",
   "execution_count": 15,
   "id": "b7e7bfba",
   "metadata": {},
   "outputs": [
    {
     "data": {
      "image/png": "[encoded data removed]",
      "text/plain": [
       "<Figure size 720x432 with 1 Axes>"
      ]
     },
     "metadata": {
      "needs_background": "light"
     },
     "output_type": "display_data"
    }
   ],
   "source": [
    "plt.figure(figsize=(10, 6))\n",
    "sns.histplot(df['pollution_2023'], bins=20, kde=True)\n",
    "plt.title('Distribution of Pollution Levels in 2023')\n",
    "plt.xlabel('Pollution Levels')\n",
    "plt.ylabel('Frequency')\n",
    "plt.show()"
   ]
  },
  {
   "cell_type": "code",
   "execution_count": 17,
   "id": "e803d86d",
   "metadata": {},
   "outputs": [
    {
     "data": {
      "image/png": "[encoded data removed]",
      "text/plain": [
       "<Figure size 864x432 with 1 Axes>"
      ]
     },
     "metadata": {
      "needs_background": "light"
     },
     "output_type": "display_data"
    }
   ],
   "source": [
    "plt.figure(figsize=(12, 6))\n",
    "sns.barplot(x='country_region', y='pollution_growth_Rate', data=df)\n",
    "plt.title('Pollution Growth Rate Across Regions')\n",
    "plt.xticks(rotation=45)\n",
    "plt.show()"
   ]
  },
  {
   "cell_type": "code",
   "execution_count": 20,
   "id": "19a1802b",
   "metadata": {},
   "outputs": [
    {
     "data": {
      "image/png": "[encoded data removed]",
      "text/plain": [
       "<Figure size 432x288 with 2 Axes>"
      ]
     },
     "metadata": {
      "needs_background": "light"
     },
     "output_type": "display_data"
    }
   ],
   "source": [
    "# Correlation matrix\n",
    "correlation_matrix = df.corr()\n",
    "\n",
    "# Visualize the correlation matrix\n",
    "sns.heatmap(correlation_matrix, annot=True, cmap='coolwarm')\n",
    "plt.title('Correlation Matrix')\n",
    "plt.show()"
   ]
  },
  {
   "cell_type": "code",
   "execution_count": 21,
   "id": "9dc7bb94",
   "metadata": {},
   "outputs": [
    {
     "name": "stdout",
     "output_type": "stream",
     "text": [
      "Top 10 Most Polluted Countries in 2023:\n",
      "0            India\n",
      "1            China\n",
      "2    United States\n",
      "3        Indonesia\n",
      "4         Pakistan\n",
      "5          Nigeria\n",
      "6           Brazil\n",
      "7       Bangladesh\n",
      "8           Russia\n",
      "9           Mexico\n",
      "Name: country_name, dtype: object\n"
     ]
    }
   ],
   "source": [
    "most_polluted_countries = df.sort_values('pollution_2023', ascending=False)['country_name'].head(10)\n",
    "print(\"Top 10 Most Polluted Countries in 2023:\")\n",
    "print(most_polluted_countries)"
   ]
  },
  {
   "cell_type": "code",
   "execution_count": 30,
   "id": "b1df5172",
   "metadata": {},
   "outputs": [
    {
     "data": {
      "image/png": "[encoded data removed]",
      "text/plain": [
       "<Figure size 864x432 with 1 Axes>"
      ]
     },
     "metadata": {
      "needs_background": "light"
     },
     "output_type": "display_data"
    }
   ],
   "source": [
    "most_polluted_countries = df.sort_values('pollution_2023', ascending=False).head(10)\n",
    "\n",
    "# Create a bar plot\n",
    "plt.figure(figsize=(12, 6))\n",
    "plt.bar(most_polluted_countries['country_name'], most_polluted_countries['pollution_2023'], color='skyblue')\n",
    "plt.title('Top 10 Most Polluted Countries in 2023')\n",
    "plt.xlabel('Country')\n",
    "plt.ylabel('Pollution Level (2023)')\n",
    "plt.xticks(rotation=45, ha='right')  # Rotate country names for better visibility\n",
    "plt.tight_layout()\n",
    "P\n",
    "# Show the plot\n",
    "plt.show()"
   ]
  },
  {
   "cell_type": "code",
   "execution_count": 22,
   "id": "b0e5d061",
   "metadata": {},
   "outputs": [
    {
     "data": {
      "image/png": "[encoded data removed]",
      "text/plain": [
       "<Figure size 864x432 with 1 Axes>"
      ]
     },
     "metadata": {
      "needs_background": "light"
     },
     "output_type": "display_data"
    }
   ],
   "source": [
    "plt.figure(figsize=(12, 6))\n",
    "sns.scatterplot(x='country_land_Area_in_Km', y='pollution_density_in_km', hue='country_region', data=df)\n",
    "plt.title('Pollution Density vs. Land Area')\n",
    "plt.xlabel('Country Land Area (in Km)')\n",
    "plt.ylabel('Pollution Density (in Km)')\n",
    "plt.show()"
   ]
  }
 ],
 "metadata": {
  "kernelspec": {
   "display_name": "Python 3 (ipykernel)",
   "language": "python",
   "name": "python3"
  },
  "language_info": {
   "codemirror_mode": {
    "name": "ipython",
    "version": 3
   },
   "file_extension": ".py",
   "mimetype": "text/x-python",
   "name": "python",
   "nbconvert_exporter": "python",
   "pygments_lexer": "ipython3",
   "version": "3.9.12"
  }
 },
 "nbformat": 4,
 "nbformat_minor": 5
}
